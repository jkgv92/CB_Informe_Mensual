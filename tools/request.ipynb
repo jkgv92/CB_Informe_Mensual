{
 "cells": [
  {
   "cell_type": "code",
   "execution_count": 34,
   "metadata": {},
   "outputs": [],
   "source": [
    "# this cell enables relative path imports\n",
    "import os\n",
    "from dotenv import load_dotenv\n",
    "load_dotenv()\n",
    "_PROJECT_PATH: str = os.environ[\"_project_path\"]\n",
    "_PICKLED_DATA_FILENAME: str = os.environ[\"_pickled_data_filename\"]\n",
    "\n",
    "import sys\n",
    "from pathlib import Path\n",
    "project_path = Path(_PROJECT_PATH)\n",
    "sys.path.append(str(project_path))"
   ]
  },
  {
   "cell_type": "code",
   "execution_count": 35,
   "metadata": {},
   "outputs": [],
   "source": [
    "# import all your modules here\n",
    "import json\n",
    "import pandas as pd\n",
    "\n",
    "import config_v2 as cfg\n",
    "from library_ubidots_v2 import Ubidots as ubi"
   ]
  },
  {
   "cell_type": "code",
   "execution_count": 3,
   "metadata": {},
   "outputs": [],
   "source": [
    "# set your constants here\n",
    "baseline=cfg.BASELINE\n",
    "study=cfg.STUDY"
   ]
  },
  {
   "cell_type": "code",
   "execution_count": 4,
   "metadata": {},
   "outputs": [],
   "source": [
    "df_devices = ubi.get_available_devices_v2(label='bancolombia', level='group', page_size=1000)\n",
    "df_vars = ubi.get_available_variables(list(df_devices['device_id']))"
   ]
  },
  {
   "cell_type": "code",
   "execution_count": 5,
   "metadata": {},
   "outputs": [],
   "source": [
    "df_vars = df_vars[df_vars['variable_label'].isin(cfg.WHITELISTED_VAR_LABELS)]\n",
    "VAR_IDS_TO_REQUEST = list(df_vars['variable_id'])\n",
    "VAR_ID_TO_LABEL = dict(zip(df_vars['variable_id'], df_vars['variable_label']))"
   ]
  },
  {
   "cell_type": "code",
   "execution_count": 6,
   "metadata": {},
   "outputs": [
    {
     "name": "stdout",
     "output_type": "stream",
     "text": [
      "Progress: 15.3%\n",
      "Progress: 30.3%\n",
      "Progress: 45.3%\n",
      "Progress: 60.3%\n",
      "Progress: 75.3%\n",
      "Progress: 90.3%\n",
      "Progress: 100.0%\n"
     ]
    }
   ],
   "source": [
    "SUBSET_SIZE = 45\n",
    "DATE_INTERVALS_REQUEST = [\n",
    "    [baseline[0], baseline[1]],\n",
    "    [study[0], study[1]]\n",
    "]\n",
    "\n",
    "df = ubi.get_data_robust(VAR_IDS_TO_REQUEST, DATE_INTERVALS_REQUEST, SUBSET_SIZE)"
   ]
  },
  {
   "cell_type": "code",
   "execution_count": 36,
   "metadata": {},
   "outputs": [
    {
     "ename": "NameError",
     "evalue": "name 'df' is not defined",
     "output_type": "error",
     "traceback": [
      "\u001b[0;31m---------------------------------------------------------------------------\u001b[0m",
      "\u001b[0;31mNameError\u001b[0m                                 Traceback (most recent call last)",
      "\u001b[0;32m/var/folders/br/__n9tzz53dqdxn0vpyzdg5840000gn/T/ipykernel_2583/2620448738.py\u001b[0m in \u001b[0;36m<module>\u001b[0;34m\u001b[0m\n\u001b[0;32m----> 1\u001b[0;31m \u001b[0mpd\u001b[0m\u001b[0;34m.\u001b[0m\u001b[0mto_pickle\u001b[0m\u001b[0;34m(\u001b[0m\u001b[0mdf\u001b[0m\u001b[0;34m,\u001b[0m \u001b[0mproject_path\u001b[0m \u001b[0;34m/\u001b[0m \u001b[0;34m'data'\u001b[0m\u001b[0;34m/\u001b[0m \u001b[0m_PICKLED_DATA_FILENAME\u001b[0m\u001b[0;34m)\u001b[0m\u001b[0;34m\u001b[0m\u001b[0;34m\u001b[0m\u001b[0m\n\u001b[0m",
      "\u001b[0;31mNameError\u001b[0m: name 'df' is not defined"
     ]
    }
   ],
   "source": [
    "pd.to_pickle(df, project_path / 'data'/ _PICKLED_DATA_FILENAME)"
   ]
  },
  {
   "cell_type": "code",
   "execution_count": 39,
   "metadata": {},
   "outputs": [
    {
     "data": {
      "text/html": [
       "<div>\n",
       "<style scoped>\n",
       "    .dataframe tbody tr th:only-of-type {\n",
       "        vertical-align: middle;\n",
       "    }\n",
       "\n",
       "    .dataframe tbody tr th {\n",
       "        vertical-align: top;\n",
       "    }\n",
       "\n",
       "    .dataframe thead th {\n",
       "        text-align: right;\n",
       "    }\n",
       "</style>\n",
       "<table border=\"1\" class=\"dataframe\">\n",
       "  <thead>\n",
       "    <tr style=\"text-align: right;\">\n",
       "      <th></th>\n",
       "      <th>value</th>\n",
       "      <th>variable_id</th>\n",
       "      <th>variable_label</th>\n",
       "      <th>device_label</th>\n",
       "      <th>device_name</th>\n",
       "      <th>timestamp</th>\n",
       "    </tr>\n",
       "    <tr>\n",
       "      <th>datetime</th>\n",
       "      <th></th>\n",
       "      <th></th>\n",
       "      <th></th>\n",
       "      <th></th>\n",
       "      <th></th>\n",
       "      <th></th>\n",
       "    </tr>\n",
       "  </thead>\n",
       "  <tbody>\n",
       "    <tr>\n",
       "      <th>2022-10-31 00:00:00-05:00</th>\n",
       "      <td>4.21</td>\n",
       "      <td>636979d877f8ee519b13817d</td>\n",
       "      <td>consumo-energia-reactiva-total</td>\n",
       "      <td>bc-816-1---calle-10</td>\n",
       "      <td>BC 816 - Calle 10</td>\n",
       "      <td>1667192400000</td>\n",
       "    </tr>\n",
       "    <tr>\n",
       "      <th>2022-10-30 23:00:00-05:00</th>\n",
       "      <td>4.17</td>\n",
       "      <td>636979d877f8ee519b13817d</td>\n",
       "      <td>consumo-energia-reactiva-total</td>\n",
       "      <td>bc-816-1---calle-10</td>\n",
       "      <td>BC 816 - Calle 10</td>\n",
       "      <td>1667188800000</td>\n",
       "    </tr>\n",
       "    <tr>\n",
       "      <th>2022-10-30 22:00:00-05:00</th>\n",
       "      <td>4.24</td>\n",
       "      <td>636979d877f8ee519b13817d</td>\n",
       "      <td>consumo-energia-reactiva-total</td>\n",
       "      <td>bc-816-1---calle-10</td>\n",
       "      <td>BC 816 - Calle 10</td>\n",
       "      <td>1667185200000</td>\n",
       "    </tr>\n",
       "    <tr>\n",
       "      <th>2022-10-30 21:00:00-05:00</th>\n",
       "      <td>4.27</td>\n",
       "      <td>636979d877f8ee519b13817d</td>\n",
       "      <td>consumo-energia-reactiva-total</td>\n",
       "      <td>bc-816-1---calle-10</td>\n",
       "      <td>BC 816 - Calle 10</td>\n",
       "      <td>1667181600000</td>\n",
       "    </tr>\n",
       "    <tr>\n",
       "      <th>2022-10-30 20:00:00-05:00</th>\n",
       "      <td>4.26</td>\n",
       "      <td>636979d877f8ee519b13817d</td>\n",
       "      <td>consumo-energia-reactiva-total</td>\n",
       "      <td>bc-816-1---calle-10</td>\n",
       "      <td>BC 816 - Calle 10</td>\n",
       "      <td>1667178000000</td>\n",
       "    </tr>\n",
       "    <tr>\n",
       "      <th>...</th>\n",
       "      <td>...</td>\n",
       "      <td>...</td>\n",
       "      <td>...</td>\n",
       "      <td>...</td>\n",
       "      <td>...</td>\n",
       "      <td>...</td>\n",
       "    </tr>\n",
       "    <tr>\n",
       "      <th>2022-11-01 00:14:47-05:00</th>\n",
       "      <td>8.19</td>\n",
       "      <td>61b7509cb5dc4f30080aed8b</td>\n",
       "      <td>front-potencia-activa</td>\n",
       "      <td>bc01-iluminacion-girardot</td>\n",
       "      <td>BC 659 - Girardot</td>\n",
       "      <td>1667279687000</td>\n",
       "    </tr>\n",
       "    <tr>\n",
       "      <th>2022-11-01 00:11:47-05:00</th>\n",
       "      <td>8.19</td>\n",
       "      <td>61b7509cb5dc4f30080aed8b</td>\n",
       "      <td>front-potencia-activa</td>\n",
       "      <td>bc01-iluminacion-girardot</td>\n",
       "      <td>BC 659 - Girardot</td>\n",
       "      <td>1667279507000</td>\n",
       "    </tr>\n",
       "    <tr>\n",
       "      <th>2022-11-01 00:08:47-05:00</th>\n",
       "      <td>8.17</td>\n",
       "      <td>61b7509cb5dc4f30080aed8b</td>\n",
       "      <td>front-potencia-activa</td>\n",
       "      <td>bc01-iluminacion-girardot</td>\n",
       "      <td>BC 659 - Girardot</td>\n",
       "      <td>1667279327000</td>\n",
       "    </tr>\n",
       "    <tr>\n",
       "      <th>2022-11-01 00:05:47-05:00</th>\n",
       "      <td>9.82</td>\n",
       "      <td>61b7509cb5dc4f30080aed8b</td>\n",
       "      <td>front-potencia-activa</td>\n",
       "      <td>bc01-iluminacion-girardot</td>\n",
       "      <td>BC 659 - Girardot</td>\n",
       "      <td>1667279147000</td>\n",
       "    </tr>\n",
       "    <tr>\n",
       "      <th>2022-11-01 00:02:47-05:00</th>\n",
       "      <td>6.75</td>\n",
       "      <td>61b7509cb5dc4f30080aed8b</td>\n",
       "      <td>front-potencia-activa</td>\n",
       "      <td>bc01-iluminacion-girardot</td>\n",
       "      <td>BC 659 - Girardot</td>\n",
       "      <td>1667278967000</td>\n",
       "    </tr>\n",
       "  </tbody>\n",
       "</table>\n",
       "<p>2695028 rows × 6 columns</p>\n",
       "</div>"
      ],
      "text/plain": [
       "                           value               variable_id  \\\n",
       "datetime                                                     \n",
       "2022-10-31 00:00:00-05:00   4.21  636979d877f8ee519b13817d   \n",
       "2022-10-30 23:00:00-05:00   4.17  636979d877f8ee519b13817d   \n",
       "2022-10-30 22:00:00-05:00   4.24  636979d877f8ee519b13817d   \n",
       "2022-10-30 21:00:00-05:00   4.27  636979d877f8ee519b13817d   \n",
       "2022-10-30 20:00:00-05:00   4.26  636979d877f8ee519b13817d   \n",
       "...                          ...                       ...   \n",
       "2022-11-01 00:14:47-05:00   8.19  61b7509cb5dc4f30080aed8b   \n",
       "2022-11-01 00:11:47-05:00   8.19  61b7509cb5dc4f30080aed8b   \n",
       "2022-11-01 00:08:47-05:00   8.17  61b7509cb5dc4f30080aed8b   \n",
       "2022-11-01 00:05:47-05:00   9.82  61b7509cb5dc4f30080aed8b   \n",
       "2022-11-01 00:02:47-05:00   6.75  61b7509cb5dc4f30080aed8b   \n",
       "\n",
       "                                           variable_label  \\\n",
       "datetime                                                    \n",
       "2022-10-31 00:00:00-05:00  consumo-energia-reactiva-total   \n",
       "2022-10-30 23:00:00-05:00  consumo-energia-reactiva-total   \n",
       "2022-10-30 22:00:00-05:00  consumo-energia-reactiva-total   \n",
       "2022-10-30 21:00:00-05:00  consumo-energia-reactiva-total   \n",
       "2022-10-30 20:00:00-05:00  consumo-energia-reactiva-total   \n",
       "...                                                   ...   \n",
       "2022-11-01 00:14:47-05:00           front-potencia-activa   \n",
       "2022-11-01 00:11:47-05:00           front-potencia-activa   \n",
       "2022-11-01 00:08:47-05:00           front-potencia-activa   \n",
       "2022-11-01 00:05:47-05:00           front-potencia-activa   \n",
       "2022-11-01 00:02:47-05:00           front-potencia-activa   \n",
       "\n",
       "                                        device_label        device_name  \\\n",
       "datetime                                                                  \n",
       "2022-10-31 00:00:00-05:00        bc-816-1---calle-10  BC 816 - Calle 10   \n",
       "2022-10-30 23:00:00-05:00        bc-816-1---calle-10  BC 816 - Calle 10   \n",
       "2022-10-30 22:00:00-05:00        bc-816-1---calle-10  BC 816 - Calle 10   \n",
       "2022-10-30 21:00:00-05:00        bc-816-1---calle-10  BC 816 - Calle 10   \n",
       "2022-10-30 20:00:00-05:00        bc-816-1---calle-10  BC 816 - Calle 10   \n",
       "...                                              ...                ...   \n",
       "2022-11-01 00:14:47-05:00  bc01-iluminacion-girardot  BC 659 - Girardot   \n",
       "2022-11-01 00:11:47-05:00  bc01-iluminacion-girardot  BC 659 - Girardot   \n",
       "2022-11-01 00:08:47-05:00  bc01-iluminacion-girardot  BC 659 - Girardot   \n",
       "2022-11-01 00:05:47-05:00  bc01-iluminacion-girardot  BC 659 - Girardot   \n",
       "2022-11-01 00:02:47-05:00  bc01-iluminacion-girardot  BC 659 - Girardot   \n",
       "\n",
       "                               timestamp  \n",
       "datetime                                  \n",
       "2022-10-31 00:00:00-05:00  1667192400000  \n",
       "2022-10-30 23:00:00-05:00  1667188800000  \n",
       "2022-10-30 22:00:00-05:00  1667185200000  \n",
       "2022-10-30 21:00:00-05:00  1667181600000  \n",
       "2022-10-30 20:00:00-05:00  1667178000000  \n",
       "...                                  ...  \n",
       "2022-11-01 00:14:47-05:00  1667279687000  \n",
       "2022-11-01 00:11:47-05:00  1667279507000  \n",
       "2022-11-01 00:08:47-05:00  1667279327000  \n",
       "2022-11-01 00:05:47-05:00  1667279147000  \n",
       "2022-11-01 00:02:47-05:00  1667278967000  \n",
       "\n",
       "[2695028 rows x 6 columns]"
      ]
     },
     "execution_count": 39,
     "metadata": {},
     "output_type": "execute_result"
    }
   ],
   "source": [
    "excel_mensual = pd.read_pickle(project_path / 'data'/ _PICKLED_DATA_FILENAME)\n",
    "excel_mensual"
   ]
  },
  {
   "cell_type": "code",
   "execution_count": 40,
   "metadata": {},
   "outputs": [],
   "source": [
    "excel_mensual = pd.read_pickle(project_path / 'data'/ _PICKLED_DATA_FILENAME)\n",
    "excel_mensual = excel_mensual.groupby(by=[\"datetime\", \"variable_label\", \"device_name\"]).resample('h').sum()\n",
    "excel_mensual.drop(columns=['timestamp'], inplace=True)\n"
   ]
  },
  {
   "cell_type": "code",
   "execution_count": 31,
   "metadata": {},
   "outputs": [],
   "source": [
    "excel_mensual.to_csv(project_path / 'data'/ 'excel_mensual.csv')"
   ]
  },
  {
   "cell_type": "code",
   "execution_count": 9,
   "metadata": {},
   "outputs": [],
   "source": [
    "# df_coords = Report.get_coords_dataframe(list(df_devices['id']))\n",
    "# pd.to_pickle(df_coords, \"data_coordinates.pkl\")"
   ]
  },
  {
   "cell_type": "code",
   "execution_count": 10,
   "metadata": {},
   "outputs": [],
   "source": [
    "# df = pd.read_pickle(project_path / 'data'/ _PICKLED_DATA_FILENAME)\n",
    "\n",
    "# df_cc_unico = df.query(\"device_name == 'BC 514 - Centro Comercial Único'\")\n",
    "\n",
    "# df_cc_unico_pa = df_cc_unico.query(\"variable_label == 'front-potencia-activa'\").copy()\n",
    "# df_cc_unico_cons = df_cc_unico.query(\"variable_label == 'front-consumo-activa'\").copy()\n",
    "\n",
    "# df_cc_unico_pa.value.plot()"
   ]
  },
  {
   "cell_type": "code",
   "execution_count": 11,
   "metadata": {},
   "outputs": [],
   "source": [
    "# df_cc_unico_cons.value.plot()"
   ]
  }
 ],
 "metadata": {
  "kernelspec": {
   "display_name": "Python 3.9.13 ('base')",
   "language": "python",
   "name": "python3"
  },
  "language_info": {
   "codemirror_mode": {
    "name": "ipython",
    "version": 3
   },
   "file_extension": ".py",
   "mimetype": "text/x-python",
   "name": "python",
   "nbconvert_exporter": "python",
   "pygments_lexer": "ipython3",
   "version": "3.9.15 (main, Nov  4 2022, 11:11:31) \n[Clang 12.0.0 ]"
  },
  "orig_nbformat": 4,
  "vscode": {
   "interpreter": {
    "hash": "45d5d326b055c61006c27c3fac6810ffc406819e8c47f0e67c9c1a4290893751"
   }
  }
 },
 "nbformat": 4,
 "nbformat_minor": 2
}
