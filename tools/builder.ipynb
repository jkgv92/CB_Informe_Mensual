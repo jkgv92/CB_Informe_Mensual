{
 "cells": [
  {
   "cell_type": "code",
   "execution_count": 1,
   "metadata": {},
   "outputs": [],
   "source": [
    "from pathlib import Path\n",
    "path_base = Path(r'D:\\OneDrive - CELSIA S.A E.S.P')\n",
    "project_path = path_base / 'Proyectos' / 'Eficiencia_Energetica' / 'Bancolombia' / 'Experimental'\n",
    "# import sys\n",
    "# sys.path.append(project_path)\n",
    "\n",
    "import pandas as pd\n",
    "import nbformat as nbf"
   ]
  },
  {
   "cell_type": "code",
   "execution_count": 2,
   "metadata": {},
   "outputs": [],
   "source": [
    "df = pd.read_pickle(project_path / 'data' / \"data_monthly.pkl\")\n",
    "set_devices = set(df['device_name'])\n",
    "df = None\n",
    "\n",
    "blueprint_filepath = project_path / 'tools' / 'modelo.ipynb'\n",
    "nb_blueprint = nbf.read(blueprint_filepath, as_version=4)"
   ]
  },
  {
   "cell_type": "markdown",
   "metadata": {},
   "source": [
    "- change title and description\n",
    "- uncomment warning supression line\n",
    "- remove autoreload\n",
    "- change device\n",
    "\n",
    "\n",
    "https://jupyterbook.org/en/stable/structure/toc.html"
   ]
  },
  {
   "cell_type": "code",
   "execution_count": 3,
   "metadata": {},
   "outputs": [
    {
     "name": "stdout",
     "output_type": "stream",
     "text": [
      "  - file: notebooks/individual/Notebook BC 185 - Llano Grande Palmira\n",
      "  - file: notebooks/individual/Notebook BC 656 - Mayales\n",
      "  - file: notebooks/individual/Notebook BC 863 - Los Patios\n",
      "  - file: notebooks/individual/Notebook BC 789 - Manga\n",
      "  - file: notebooks/individual/Notebook BC 302 - Quebrada Seca\n",
      "  - file: notebooks/individual/Notebook BC 496 - Iwanna\n",
      "  - file: notebooks/individual/Notebook BC 398 - Sucursal Mariquita\n",
      "  - file: notebooks/individual/Notebook BC 799 - Floridablanca\n",
      "  - file: notebooks/individual/Notebook BC 776 - Lebrija\n",
      "  - file: notebooks/individual/Notebook BC 424 - Honda\n",
      "  - file: notebooks/individual/Notebook BC 197 - Guatapuri\n",
      "  - file: notebooks/individual/Notebook BC 78 - El Cacique\n",
      "  - file: notebooks/individual/Notebook BC 514 - Centro Comercial Único\n",
      "  - file: notebooks/individual/Notebook BC 311 - Bello\n",
      "  - file: notebooks/individual/Notebook BC 061 - Carrera Primera\n",
      "  - file: notebooks/individual/Notebook BC 824 - Ventura Plaza\n",
      "  - file: notebooks/individual/Notebook BC 66 - Palmira\n",
      "  - file: notebooks/individual/Notebook BC 793 - Profesionales\n",
      "  - file: notebooks/individual/Notebook BC 750 - Roosevelt\n",
      "  - file: notebooks/individual/Notebook BC 741 - Calima\n",
      "  - file: notebooks/individual/Notebook BC 459 - Campo Alegre\n",
      "  - file: notebooks/individual/Notebook BC 678 - Paseo de la Castellana\n",
      "  - file: notebooks/individual/Notebook BC 90 - Megamall\n",
      "  - file: notebooks/individual/Notebook BC 613 - La America\n",
      "  - file: notebooks/individual/Notebook BC 291 - Las Palmas\n",
      "  - file: notebooks/individual/Notebook BC 787 - Bocagrande Carrera Tercera\n",
      "  - file: notebooks/individual/Notebook BC 764 - Jamundí\n",
      "  - file: notebooks/individual/Notebook BC 659 - Girardot\n",
      "  - file: notebooks/individual/Notebook BC 749 - Santa Monica\n",
      "  - file: notebooks/individual/Notebook BC 796 - Girón\n",
      "  - file: notebooks/individual/Notebook BC 044 - Piedecuesta\n",
      "  - file: notebooks/individual/Notebook BC 495 - El Bosque\n",
      "  - file: notebooks/individual/Notebook BC 792 - Paseo del comercio\n",
      "  - file: notebooks/individual/Notebook BC 210 - Banca Colombia Cartagena\n",
      "  - file: notebooks/individual/Notebook BC 371 - Caucasia\n",
      "  - file: notebooks/individual/Notebook BC 453 - Pitalito\n",
      "  - file: notebooks/individual/Notebook BC 205 - Villa Colombia\n",
      "  - file: notebooks/individual/Notebook BC 834 - San Mateo\n",
      "  - file: notebooks/individual/Notebook BC 253 - Puerta del Norte\n",
      "  - file: notebooks/individual/Notebook BC 306 - Barrancabermeja\n",
      "  - file: notebooks/individual/Notebook BC 88 - Cúcuta\n"
     ]
    }
   ],
   "source": [
    "for device_name in set_devices:\n",
    "    nb = nb_blueprint.copy()\n",
    "    nb_cells = nb['cells']\n",
    "    cell_0 = nb_cells[0]\n",
    "    cell_1 = nb_cells[1]\n",
    "    cell_rest = nb_cells[2:]\n",
    "\n",
    "    cell_0['source'] = f'# {device_name}'\n",
    "    cell_1['source'] = f'DEVICE_NAME = \\'{device_name}\\'\\nPICKLED_DATA_FILENAME = \\'data_monthly.pkl\\'\\nproject_path = \\'{project_path}\\'\\nimport warnings\\nwarnings.filterwarnings(\"ignore\")'\n",
    "    new_cells = [cell_0] + [cell_1] + cell_rest\n",
    "    nb['cells'] = new_cells\n",
    "\n",
    "    filename = f\"Notebook {device_name}\"\n",
    "    write_path = project_path/'main'/'notebooks'/'individual'/f\"{filename}.ipynb\"\n",
    "    nbf.write(nb, write_path)\n",
    "\n",
    "    print(f\"  - file: notebooks/individual/{filename}\")\n",
    "\n",
    "    "
   ]
  },
  {
   "cell_type": "markdown",
   "metadata": {},
   "source": [
    "- [ ] Sort sedes? check if Ubidots has a specific order\n",
    "- [x] Fix what's wrong with the Ubidots Library function to get variables\n",
    "- [x] Use Jupyter-Book command to hide code cell for <blueprint_filename>\n",
    "- [x] Clear outputs for <blueprint_filename>\n",
    "- [x] Run builder.ipynb\n",
    "- [x] Add table of contents to _toc.yml\n",
    "- [ ] Run jb build\n",
    "- [ ] Use the local html files to document your findings\n",
    "- [ ] Add new Sedes to Hallazgos.md\n",
    "- [ ] Run jb build again\n",
    "- [ ] push to github\n",
    "- [ ] run ghp"
   ]
  },
  {
   "cell_type": "code",
   "execution_count": 4,
   "metadata": {},
   "outputs": [],
   "source": [
    "# df_devices['office'] df_devices['device_name'].str.split(\" - \",expand=True)[1]"
   ]
  },
  {
   "cell_type": "code",
   "execution_count": null,
   "metadata": {},
   "outputs": [],
   "source": []
  }
 ],
 "metadata": {
  "kernelspec": {
   "display_name": "Python 3.9.12 ('reporte_ubidots')",
   "language": "python",
   "name": "python3"
  },
  "language_info": {
   "codemirror_mode": {
    "name": "ipython",
    "version": 3
   },
   "file_extension": ".py",
   "mimetype": "text/x-python",
   "name": "python",
   "nbconvert_exporter": "python",
   "pygments_lexer": "ipython3",
   "version": "3.9.12"
  },
  "orig_nbformat": 4,
  "vscode": {
   "interpreter": {
    "hash": "3e8543986d11a7095dd1a708864c19914edc7f3db3f09d9443f7bd38b5a3c994"
   }
  }
 },
 "nbformat": 4,
 "nbformat_minor": 2
}
