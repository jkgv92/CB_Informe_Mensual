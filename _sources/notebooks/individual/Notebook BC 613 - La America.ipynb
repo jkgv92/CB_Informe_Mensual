{
 "cells": [
  {
   "cell_type": "markdown",
   "metadata": {
    "tags": []
   },
   "source": [
    "# BC 613 - La America"
   ]
  },
  {
   "cell_type": "code",
   "execution_count": null,
   "metadata": {
    "tags": [
     "remove-cell"
    ]
   },
   "outputs": [],
   "source": [
    "DEVICE_NAME = 'BC 613 - La America'\n",
    "PICKLED_DATA_FILENAME = 'data_monthly.pkl'\n",
    "project_path = 'D:\\OneDrive - CELSIA S.A E.S.P\\Proyectos\\Eficiencia_Energetica\\Bancolombia\\Experimental'\n",
    "import warnings\n",
    "warnings.filterwarnings(\"ignore\")"
   ]
  },
  {
   "cell_type": "code",
   "execution_count": null,
   "metadata": {
    "tags": [
     "remove-cell"
    ]
   },
   "outputs": [],
   "source": [
    "import pandas as pd\n",
    "import numpy as np\n",
    "import datetime as dt\n",
    "import json\n",
    "\n",
    "import plotly.io as pio\n",
    "import plotly.graph_objects as go\n",
    "import plotly.express as px\n",
    "\n",
    "pio.renderers.default = \"notebook\"\n",
    "pio.templates.default = \"plotly_white\"\n",
    "\n",
    "\n",
    "# Import bespoke modules\n",
    "import sys\n",
    "from pathlib import Path\n",
    "\n",
    "project_path = Path(project_path)\n",
    "sys.path.append(str(project_path))\n",
    "\n",
    "import config as cfg\n",
    "from library_ubidots import Ubidots\n",
    "\n",
    "from library_report_v2 import Cleaning as cln\n",
    "from library_report_v2 import Graphing as grp\n",
    "from library_report_v2 import Processing as pro\n",
    "from library_report_v2 import Configuration as repcfg"
   ]
  },
  {
   "cell_type": "markdown",
   "metadata": {
    "tags": [
     "remove-cell"
    ]
   },
   "source": [
    "## Functions"
   ]
  },
  {
   "cell_type": "code",
   "execution_count": null,
   "metadata": {
    "tags": [
     "remove-cell"
    ]
   },
   "outputs": [],
   "source": [
    "def show_response_contents(df):\n",
    "    print(\"The response contains:\")\n",
    "    print(json.dumps(list(df['variable'].unique()), sort_keys=True, indent=4))\n",
    "    print(json.dumps(list(df['device'].unique()), sort_keys=True, indent=4))"
   ]
  },
  {
   "cell_type": "markdown",
   "metadata": {
    "tags": [
     "remove-cell"
    ]
   },
   "source": [
    "## Preprocessing"
   ]
  },
  {
   "cell_type": "code",
   "execution_count": null,
   "metadata": {
    "tags": [
     "remove-cell"
    ]
   },
   "outputs": [],
   "source": [
    "data_path = project_path / 'data'\n",
    "df = pd.read_pickle(data_path / PICKLED_DATA_FILENAME)\n",
    "df = df.query(\"device_name == @DEVICE_NAME\")\n",
    "show_response_contents(df)"
   ]
  },
  {
   "cell_type": "code",
   "execution_count": null,
   "metadata": {
    "tags": [
     "remove-cell"
    ]
   },
   "outputs": [],
   "source": [
    "df = df.sort_values(by=['variable','datetime'])\n",
    "df = pro.datetime_attributes(df)\n",
    "\n",
    "df_bl, df_st = pro.split_into_baseline_and_study(df, baseline=cfg.BASELINE, study=cfg.STUDY, inclusive='both')\n",
    "\n",
    "# df_cons = df.query(\"variable == 'front-consumo-activa'\")\n",
    "# df_ea = cln.recover_energy_from_consumption(df_cons, new_varname='front-energia-activa-acumulada')\n",
    "# df_pa_synth = cln.differentiate_single_variable(df_ea, 'front-potencia-activa-sintetica', remove_gap_data=True)\n",
    "# df_ea_interp = cln.linearly_interpolate_series(df_ea, data_rate_in_minutes=None)"
   ]
  },
  {
   "cell_type": "code",
   "execution_count": null,
   "metadata": {
    "tags": [
     "remove-cell"
    ]
   },
   "outputs": [],
   "source": [
    "df_pa = df.query(\"variable == 'front-potencia-activa'\").copy()\n",
    "cargas = df_st[df_st[\"variable\"].isin(cfg.ENERGY_VAR_LABELS)].copy()\n",
    "front = df_st[df_st[\"variable\"].isin(['front-consumo-activa'])].copy()\n",
    "front_reactiva = df_st[df_st[\"variable\"].isin(['consumo-energia-reactiva-total'])].copy()\n",
    "\n",
    "df_pa = cln.remove_outliers_by_zscore(df_pa, zscore=4)\n",
    "cargas = cln.remove_outliers_by_zscore(cargas, zscore=4)\n",
    "front = cln.remove_outliers_by_zscore(front, zscore=4)\n",
    "front_reactiva = cln.remove_outliers_by_zscore(front, zscore=4)"
   ]
  },
  {
   "cell_type": "code",
   "execution_count": null,
   "metadata": {
    "tags": [
     "remove-cell"
    ]
   },
   "outputs": [],
   "source": [
    "cargas_hour = cargas.groupby(by=[\"variable\"]).resample('1h').sum().round(2).reset_index().set_index('datetime')\n",
    "cargas_hour = pro.datetime_attributes(cargas_hour)\n",
    "\n",
    "cargas_day = cargas.groupby(by=[\"variable\"]).resample('1D').sum().reset_index().set_index('datetime')\n",
    "cargas_day = pro.datetime_attributes(cargas_day)\n",
    "\n",
    "cargas_month = cargas.groupby(by=[\"variable\"]).resample('1M').sum().reset_index().set_index('datetime')\n",
    "cargas_month = pro.datetime_attributes(cargas_month)\n",
    "\n",
    "front_hour = front.groupby(by=[\"variable\"]).resample('1h').sum().round(2).reset_index().set_index('datetime')\n",
    "front_hour = pro.datetime_attributes(front_hour)\n",
    "\n",
    "front_day = front.groupby(by=[\"variable\"]).resample('1D').sum().reset_index().set_index('datetime')\n",
    "front_day = pro.datetime_attributes(front_day)\n",
    "\n",
    "front_month = front.groupby(by=[\"variable\"]).resample('1M').sum().reset_index().set_index('datetime')\n",
    "front_month = pro.datetime_attributes(front_month)\n",
    "\n",
    "front_reactiva_hour = front_reactiva.groupby(by=[\"variable\"]).resample('1h').sum().round(2).reset_index().set_index('datetime')\n",
    "front_reactiva_hour = pro.datetime_attributes(front_reactiva_hour)"
   ]
  },
  {
   "cell_type": "markdown",
   "metadata": {},
   "source": [
    "## Resultados"
   ]
  },
  {
   "cell_type": "code",
   "execution_count": null,
   "metadata": {
    "tags": [
     "remove-input"
    ]
   },
   "outputs": [],
   "source": [
    "front_cons_total = front_month.iloc[-1][\"value\"]\n",
    "# dif_mes_anterior =front_month.iloc[-1][\"value\"] - past_months.iloc[-1][\"value\"]\n",
    "print(f\"El consumo de energía durante el último mes fue {front_cons_total:.1f}kWh\")"
   ]
  },
  {
   "cell_type": "code",
   "execution_count": null,
   "metadata": {
    "tags": [
     "remove-input"
    ]
   },
   "outputs": [],
   "source": [
    "cargas_cons_total = cargas_month['value'].sum()\n",
    "consumo_otros =  front_cons_total - cargas_cons_total\n",
    "\n",
    "if (consumo_otros < 0):\n",
    "    consumo_otros = 0\n",
    "\n",
    "df_pie = cargas_month[['variable','value']].copy()\n",
    "\n",
    "df_pie.loc[-1] = ['otros', consumo_otros]\n",
    "df_pie = df_pie.reset_index(drop=True)\n",
    "df_pie['value'] = df_pie['value'].round(1)\n",
    "\n",
    "\n",
    "if (df_pie.value >= 0).all():\n",
    "    fig = px.pie(\n",
    "        df_pie, \n",
    "        values=\"value\", \n",
    "        names='variable', \n",
    "        hover_data=['value'], \n",
    "        labels={'variable':'Carga', 'value':'Consumo [kWh]'},\n",
    "        title=\"Consumo total de energía activa por carga [kWh]\",\n",
    "        color_discrete_sequence=repcfg.FULL_PALETTE, \n",
    "    )\n",
    "\n",
    "    fig.update_layout(\n",
    "        font_family=repcfg.CELSIA_FONT,\n",
    "        font_size=repcfg.PLOTLY_TITLE_FONT_SIZE,\n",
    "        font_color=repcfg.FULL_PALETTE[1],\n",
    "        title_x=repcfg.PLOTLY_TITLE_X,\n",
    "        width=repcfg.JBOOK_PLOTLY_WIDTH,\n",
    "        height=repcfg.JBOOK_PLOTLY_HEIGHT\n",
    "    )\n",
    "\n",
    "    fig.update_traces(\n",
    "        textposition='inside', \n",
    "        textinfo='percent', \n",
    "        insidetextorientation='radial'\n",
    "    )\n",
    "\n",
    "    fig.update(\n",
    "        layout_showlegend=True\n",
    "    )\n",
    "\n",
    "    fig.show()"
   ]
  },
  {
   "cell_type": "code",
   "execution_count": null,
   "metadata": {
    "tags": [
     "remove-input"
    ]
   },
   "outputs": [],
   "source": [
    "fig = px.bar(\n",
    "    front_day.reset_index(),\n",
    "    x=\"day\",\n",
    "    y=\"value\",\n",
    "    labels={'day':'Día', 'value':'Consumo [kWh]'},\n",
    "    title=\"Frontera: Consumo diario de energía activa [kWh] en el último mes\",\n",
    ")\n",
    "\n",
    "fig.update_layout(\n",
    "    font_family=repcfg.CELSIA_FONT,\n",
    "    font_size=repcfg.PLOTLY_TITLE_FONT_SIZE,\n",
    "    font_color=repcfg.FULL_PALETTE[1],\n",
    "    title_x=repcfg.PLOTLY_TITLE_X,\n",
    "    width=repcfg.JBOOK_PLOTLY_WIDTH,\n",
    "    height=repcfg.JBOOK_PLOTLY_HEIGHT\n",
    ")\n",
    "\n",
    "fig.update_traces(marker_color=grp.hex_to_rgb(repcfg.FULL_PALETTE[0]))\n",
    "fig.show()"
   ]
  },
  {
   "cell_type": "code",
   "execution_count": null,
   "metadata": {
    "tags": [
     "remove-input"
    ]
   },
   "outputs": [],
   "source": [
    "fig = px.bar(\n",
    "    pd.concat([cargas_day, front_day]),\n",
    "    x=\"day\",\n",
    "    y=\"value\",\n",
    "    barmode='group',\n",
    "    color='variable',\n",
    "    color_discrete_sequence=repcfg.FULL_PALETTE,\n",
    "    labels={'day':'Día', 'value':'Consumo [kWh]'},\n",
    "    title=\"Consumo diario de energía activa [kWh] en el último mes\",\n",
    ")\n",
    "\n",
    "fig.update_layout(\n",
    "    font_family=repcfg.CELSIA_FONT,\n",
    "    font_size=repcfg.PLOTLY_TITLE_FONT_SIZE,\n",
    "    font_color=repcfg.FULL_PALETTE[1],\n",
    "    title_x=repcfg.PLOTLY_TITLE_X,\n",
    "    width=repcfg.JBOOK_PLOTLY_WIDTH,\n",
    "    height=repcfg.JBOOK_PLOTLY_HEIGHT\n",
    ")\n",
    "\n",
    "fig.show()"
   ]
  },
  {
   "cell_type": "code",
   "execution_count": null,
   "metadata": {
    "tags": [
     "remove-input"
    ]
   },
   "outputs": [],
   "source": [
    "df_pa_bl, df_pa_st = pro.split_into_baseline_and_study(df_pa, baseline=cfg.BASELINE, study=cfg.STUDY, inclusive='both')\n",
    "\n",
    "if (len(df_pa_bl) > 0) & (len(df_pa_st) > 0):\n",
    "    df_pa_bl_day = (\n",
    "        df_pa_bl\n",
    "        .reset_index()\n",
    "        .groupby(['device_name','variable','hour'])['value']\n",
    "        .agg(['median','mean','std','min',pro.q_low,pro.q_high,'max','count'])\n",
    "        .reset_index()\n",
    "    )\n",
    "\n",
    "    df_pa_st_day = (\n",
    "        df_pa_st\n",
    "        .reset_index()\n",
    "        .groupby(['device_name','variable','hour'])['value']\n",
    "        .agg(['median','mean','std','min',pro.q_low,pro.q_high,'max','count'])\n",
    "        .reset_index()\n",
    "    )\n",
    "\n",
    "    grp.compare_baseline_day_by_hour(\n",
    "        df_pa_bl_day,\n",
    "        df_pa_st_day,\n",
    "        title=f\"Día típico para la sede de {DEVICE_NAME}\",\n",
    "        bl_label=\"Promedio línea base\",\n",
    "        st_label=\"Promedio octubre\",\n",
    "        bl_ci_label=\"Intervalo línea base\",\n",
    "        include_ci=True,\n",
    "        fill_ci=True\n",
    "    )\n",
    "\n",
    "\n",
    "    df_pa_bl_week = (\n",
    "        df_pa_bl\n",
    "        .reset_index()\n",
    "        .groupby(['device_name','variable','cont_dow'])['value']\n",
    "        .agg(['median','mean','std','min',pro.q_low,pro.q_high,'max','count'])\n",
    "        .reset_index()\n",
    "    )\n",
    "\n",
    "    df_pa_st_week = (\n",
    "        df_pa_st\n",
    "        .reset_index()\n",
    "        .groupby(['device_name','variable','cont_dow'])['value']\n",
    "        .agg(['median','mean','std','min',pro.q_low,pro.q_high,'max','count'])\n",
    "        .reset_index()\n",
    "    )\n",
    "\n",
    "    grp.compare_baseline_week_by_day(\n",
    "        df_pa_bl_week,\n",
    "        df_pa_st_week,\n",
    "        title=f\"Semana típica para la sede de {DEVICE_NAME}\",\n",
    "        bl_label=\"Promedio línea base\",\n",
    "        st_label=\"Promedio octubre\",\n",
    "        bl_ci_label=\"Intervalo línea base\",\n",
    "        include_ci=True,\n",
    "        fill_ci=True\n",
    "    )"
   ]
  },
  {
   "cell_type": "code",
   "execution_count": null,
   "metadata": {
    "tags": [
     "remove-input"
    ]
   },
   "outputs": [],
   "source": [
    "matrix = front_hour.pivot(index='day', columns='hour', values='value')\n",
    "\n",
    "if (matrix.shape[0] > 0) & (matrix.shape[1] > 0):\n",
    "    data = grp.pivoted_dataframe_to_plotly_heatmap(matrix)\n",
    "    grp.hourly_heatmap(\n",
    "        data,\n",
    "        title=\"Frontera: Consumo total de energía activa [kWh] en el último mes\"\n",
    "    )"
   ]
  },
  {
   "cell_type": "code",
   "execution_count": null,
   "metadata": {
    "tags": [
     "remove-input"
    ]
   },
   "outputs": [],
   "source": [
    "matrix = (\n",
    "    cargas_hour\n",
    "    .groupby(by=[\"day\",\"hour\"]).sum().reset_index()\n",
    "    .pivot(index='day', columns='hour', values='value')\n",
    ")\n",
    "\n",
    "if (matrix.shape[0] > 0) & (matrix.shape[1] > 0):\n",
    "    data = grp.pivoted_dataframe_to_plotly_heatmap(matrix)\n",
    "    grp.hourly_heatmap(\n",
    "        data,\n",
    "        title=\"Cargas: Consumo total de energía activa [kWh] en el último mes\"\n",
    "    )"
   ]
  },
  {
   "cell_type": "code",
   "execution_count": null,
   "metadata": {
    "tags": [
     "remove-input"
    ]
   },
   "outputs": [],
   "source": [
    "matrix = (\n",
    "    front_reactiva_hour\n",
    "    .groupby(by=[\"day\",\"hour\"]).sum().reset_index()\n",
    "    .pivot(index='day', columns='hour', values='value')\n",
    ")\n",
    "\n",
    "if (matrix.shape[0] > 0) & (matrix.shape[1] > 0):\n",
    "    data = grp.pivoted_dataframe_to_plotly_heatmap(matrix)\n",
    "    grp.hourly_heatmap(\n",
    "        data,\n",
    "        title=\"Cargas: Consumo total de energía reactiva [kVArh] en el último mes\"\n",
    "    )"
   ]
  },
  {
   "cell_type": "code",
   "execution_count": null,
   "metadata": {
    "tags": [
     "remove-input"
    ]
   },
   "outputs": [],
   "source": [
    "df_plot = pd.concat([front_hour, cargas_hour])\n",
    "\n",
    "list_vars = [\n",
    "    'front-consumo-activa',\n",
    "    'aa-consumo-activa',\n",
    "    'ilu-consumo-activa'\n",
    "]\n",
    "\n",
    "alpha = 0.75\n",
    "fig = go.Figure()\n",
    "hex_color_primary = repcfg.FULL_PALETTE[0]\n",
    "hex_color_secondary = repcfg.FULL_PALETTE[1]\n",
    "\n",
    "idx = 0\n",
    "for variable in list_vars:\n",
    "    df_var = df_plot.query(\"variable == @variable\")\n",
    "    hex_color = repcfg.FULL_PALETTE[idx % len(repcfg.FULL_PALETTE)]\n",
    "    rgba_color = grp.hex_to_rgb(hex_color, alpha)\n",
    "    idx += 1\n",
    "\n",
    "    if (len(df_var) > 0):\n",
    "        fig.add_trace(go.Scatter(\n",
    "            x=df_var.index,\n",
    "            y=df_var.value,\n",
    "            line_color=rgba_color,\n",
    "            name=variable,\n",
    "            showlegend=True,\n",
    "        ))\n",
    "\n",
    "\n",
    "\n",
    "fig.update_layout(\n",
    "    title=\"Consumo de energía activa [kWh]\",\n",
    "    font_family=repcfg.CELSIA_FONT,\n",
    "    font_size=repcfg.PLOTLY_TITLE_FONT_SIZE,\n",
    "    font_color=repcfg.FULL_PALETTE[1],\n",
    "    title_x=repcfg.PLOTLY_TITLE_X,\n",
    "    width=repcfg.JBOOK_PLOTLY_WIDTH,\n",
    "    height=repcfg.JBOOK_PLOTLY_HEIGHT,\n",
    "    yaxis=dict(title_text=\"Consumo Activa [kWh]\")\n",
    ")\n",
    "\n",
    "fig.update_traces(mode='lines')\n",
    "# fig.update_xaxes(rangemode=\"tozero\")\n",
    "fig.update_yaxes(rangemode=\"tozero\")\n",
    "fig.show()\n"
   ]
  },
  {
   "cell_type": "code",
   "execution_count": null,
   "metadata": {
    "tags": [
     "remove-input"
    ]
   },
   "outputs": [],
   "source": [
    "cargas_nighttime_cons = cargas[cargas[\"hour\"].isin(cfg.NIGHT_HOURS)].copy()\n",
    "cargas_nighttime_cons = pro.datetime_attributes(cargas_nighttime_cons)\n",
    "\n",
    "cargas_daily_nighttime_cons = (\n",
    "    cargas_nighttime_cons\n",
    "    .groupby('day')['value']\n",
    "    .sum()\n",
    "    .to_frame()\n",
    ")\n",
    "\n",
    "if (cargas_daily_nighttime_cons.shape[0] > 0):\n",
    "    fig = px.bar(\n",
    "        cargas_daily_nighttime_cons.reset_index(),\n",
    "        x=\"day\",\n",
    "        y=\"value\",\n",
    "        labels={'day':'Día', 'value':'Consumo [kWh]'},\n",
    "        title=\"Cargas: Consumo nocturno de energía activa [kWh] en el último mes\",\n",
    "    )\n",
    "\n",
    "    fig.update_layout(\n",
    "        font_family=repcfg.CELSIA_FONT,\n",
    "        font_size=repcfg.PLOTLY_TITLE_FONT_SIZE,\n",
    "        font_color=repcfg.FULL_PALETTE[1],\n",
    "        title_x=repcfg.PLOTLY_TITLE_X,\n",
    "        width=repcfg.JBOOK_PLOTLY_WIDTH,\n",
    "        height=repcfg.JBOOK_PLOTLY_HEIGHT\n",
    "    )\n",
    "\n",
    "    fig.update_traces(marker_color=grp.hex_to_rgb(repcfg.FULL_PALETTE[0]))\n",
    "    fig.show()\n",
    "\n",
    "    consumo_nocturno = round(cargas_daily_nighttime_cons[\"value\"].sum(),2)\n",
    "\n",
    "    print(f\"Durante el mes pasado se consumió un total de: {consumo_nocturno}kWh fuera del horario establecido\")\n"
   ]
  }
 ],
 "metadata": {
  "kernelspec": {
   "display_name": "Python 3 (ipykernel)",
   "language": "python",
   "name": "python3"
  },
  "language_info": {
   "codemirror_mode": {
    "name": "ipython",
    "version": 3
   },
   "file_extension": ".py",
   "mimetype": "text/x-python",
   "name": "python",
   "nbconvert_exporter": "python",
   "pygments_lexer": "ipython3",
   "version": "3.9.12"
  },
  "vscode": {
   "interpreter": {
    "hash": "3e8543986d11a7095dd1a708864c19914edc7f3db3f09d9443f7bd38b5a3c994"
   }
  }
 },
 "nbformat": 4,
 "nbformat_minor": 4
}
