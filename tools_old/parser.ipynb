{
 "cells": [
  {
   "cell_type": "code",
   "execution_count": 13,
   "metadata": {},
   "outputs": [],
   "source": [
    "import pandas as pd\n",
    "import datetime as dt"
   ]
  },
  {
   "cell_type": "code",
   "execution_count": null,
   "metadata": {},
   "outputs": [],
   "source": [
    "import sys\n",
    "from pathlib import Path\n",
    "\n",
    "project_path = Path(r'D:\\OneDrive - CELSIA S.A E.S.P') / 'Proyectos' / 'Eficiencia_Energetica' / 'Esenttia' / 'Reporte_2022_09_15'\n",
    "sys.path.append(str(project_path))"
   ]
  },
  {
   "cell_type": "code",
   "execution_count": 14,
   "metadata": {},
   "outputs": [],
   "source": [
    "dct_names = {\n",
    "    'Planta1.13': 'Planta1.13',\n",
    "    'Planta1.14': 'Planta1.14',\n",
    "    'Planta1.15': 'Planta1.15',\n",
    "    'Planta1.16': 'Planta1.16',\n",
    "    'Planta1.17': 'Planta1.17',\n",
    "    'Planta1.18': 'Planta1.18',\n",
    "    'Planta1.19': 'Planta1.19',\n",
    "    'Planta1.24': 'Planta1.24',\n",
    "    'Planta1.29': 'Planta1.29',\n",
    "    'Planta1.3': 'Planta1.3',\n",
    "    'Planta1.30': 'Planta1.30',\n",
    "    'Planta1.31': 'Planta1.31',\n",
    "    'Planta1.32': 'Planta1.32',\n",
    "    'Planta1.34': 'Planta1.34',\n",
    "    'Planta1.35': 'Planta1.35',\n",
    "    'Planta1.36': 'Planta1.36',\n",
    "    'Planta1.37': 'Planta1.37',\n",
    "    'Planta1.38': 'Planta1.38',\n",
    "    'Planta1.39': 'Planta1.39',\n",
    "    'Planta1.40': 'Planta1.40',\n",
    "    'Planta1.5': 'Planta1.5',\n",
    "    'Planta1.G0': 'Planta1.G0404',\n",
    "    'Planta1.G2': 'Planta1.G2012',\n",
    "    'Planta1.K0': 'Planta1.K0304',\n",
    "    'Planta1.Y0': 'Planta1.Y0400F1M',\n",
    "    'Planta2.1': 'Planta2.1',\n",
    "    'Planta2.10': 'Planta2.10',\n",
    "    'Planta2.11': 'Planta2.11',\n",
    "    'Planta2.12': 'Planta2.12',\n",
    "    'Planta2.2': 'Planta2.2',\n",
    "    'Planta2.20': 'Planta2.20K10M01',\n",
    "    'Planta2.21': 'Planta2.21',\n",
    "    'Planta2.22': 'Planta2.22',\n",
    "    'Planta2.26': 'Planta2.26',\n",
    "    'Planta2.27': 'Planta2.27',\n",
    "    'Planta2.33': 'Planta2.33',\n",
    "    'Planta2.6': 'Planta2.6',\n",
    "    'Planta2.8_': 'Planta2.8_01P010BM01',\n",
    "    'Planta2.9': 'Planta2.9'\n",
    "}\n",
    "\n",
    "cols = [\n",
    "    'name',\n",
    "    'date',\n",
    "    'time',\n",
    "    'active_energy_delivered',\n",
    "    'reactive_energy_delivered',\n",
    "    'active_power',\n",
    "    'apparent_power',\n",
    "    'reactive_power',\n",
    "    'power_factor_signed',\n",
    "    'average_voltage_ltl',\n",
    "    'average_voltage_ltn',\n",
    "]\n",
    "\n",
    "name_to_description = {\n",
    "    '1':'Compresor de nitrógeno',\n",
    "    '2':'Compresor gas transporte',\n",
    "    '3':'Soplador aire de transporte',\n",
    "    '5':'Bomba torre de enfriamiento PTA1',\n",
    "    '6':'Bomba agua torres',\n",
    "    '9':'Ventilador de descarga de aditivos sólidos',\n",
    "    '10':'Equipo reemplazado',\n",
    "    '11':'Ventilador de descarga de aditivos sólidos',\n",
    "    '12':'Equipo mal rotulado',\n",
    "    '13':'Soplador granel',\n",
    "    '14':'Bomba calentador propileno - Compresor de nitrógeno',\n",
    "    '15':'Bomba de propileno área 20',\n",
    "    '16':'Bomba de propileno',\n",
    "    '17':'Bomba calentador propileno',\n",
    "    '18':'Bombas: Calentador propileno -  Calentador propileno',\n",
    "    '19':'No registra',\n",
    "    '21':'Bombas: Agua torres - Agua torres',\n",
    "    '22':'Purga del agitador del reactor - mal rotulado',\n",
    "    '24':'Motor de ventilador lado norte',\n",
    "    '26':'Compresor de nitrógeno',\n",
    "    '27':'Bomba de propileno',\n",
    "    '29':'Ventilador',\n",
    "    '30':'Bomba torre de enfriamiento PTA1',\n",
    "    '31':'Bombas: Booster propileno - Intercambiador E-4002',\n",
    "    '32':'Bombas: Agua tratada - Agua tratada',\n",
    "    '33':'Bombas: Agua torres - Agua torres',\n",
    "    '34':'No registra',\n",
    "    '35':'Bomba booster de propileno',\n",
    "    '36':'Fuera de servicio',\n",
    "    '37':'Desconocido - Soplador para purgar silos',\n",
    "    '38':'Sopladores: Pellets - Baggin/Granel - Baggin',\n",
    "    '39':'Compresor de aire ZR250',\n",
    "    '40':'Compresor de aire ZR275 FF servicos',\n",
    "    '20K10M01':'Compresor de inertes',\n",
    "    '8_01P010BM01':'Bomba de propileno',\n",
    "    'G0404':'Bomba torre de enfriamiento PTA1',\n",
    "    'G2012':'Bomba booster de propileno',\n",
    "    'K0304':'Soplador de silos',\n",
    "    'PM23':'Bomba torre de enfriamiento',\n",
    "    'PM25':'Bomba torre de enfriamiento PTA1',\n",
    "    'Y0400F1M':'Ventilador lado sur'\n",
    "}"
   ]
  },
  {
   "cell_type": "code",
   "execution_count": 15,
   "metadata": {},
   "outputs": [],
   "source": [
    "def prepare_data(df, dct_names, cols):\n",
    "    # set local timezone DatetimeIndex\n",
    "    df['datetime'] = pd.to_datetime(df['date'] + ' ' + df['time'])\n",
    "    df.drop(columns=['date','time'], inplace=True)\n",
    "    df.set_index('datetime', inplace=True)\n",
    "    df = df.tz_localize('utc').tz_convert('America/Bogota')\n",
    "\n",
    "    # melt to compress dataset and also make it easier to manipulate with our existing libraries\n",
    "    df = df.reset_index().melt(id_vars=['name','datetime'], value_vars=cols[3:])\n",
    "\n",
    "    # fix names\n",
    "    df['name'] = df['name'].astype(str).map(dct_names)\n",
    "\n",
    "    meters = pd.read_excel('Lista_medidores_esenttia.xlsx')\n",
    "    meters['name'] = meters['group'] + '.' + meters['name'].astype(str)\n",
    "    name_to_load = dict(zip(meters['name'], meters['load']))\n",
    "\n",
    "    df['load'] = df['name'].map(name_to_load)\n",
    "    df['description'] = df['name'].str.split('.', expand=True)[1].map(name_to_description)\n",
    "\n",
    "    # df['group'] = df['name'].apply(lambda x: x.split('.')[0])\n",
    "    # df['name'] = df['name'].apply(lambda x: x.split('.')[1])\n",
    "\n",
    "    # configure dtypes\n",
    "    df['name'] = df['name'].astype('category')\n",
    "    df['description'] = df['description'].astype('category')\n",
    "    df['variable'] = df['variable'].astype('category')\n",
    "    df['load'] = df['load'].astype('category')\n",
    "    df['value'] = df['value'].str.replace(',', '.').astype(float)\n",
    "\n",
    "    # clean the data\n",
    "    faulty_names = [\n",
    "        '(2558588 r',\n",
    "        'Completion',\n",
    "        'Warning: N',\n",
    "        'Planta1.34', # no associated load in the table provided by Diego\n",
    "        'Planta1.37', # doesn't exist\n",
    "        'Planta1.39', # failed\n",
    "        'Planta1.40', # doesn't exist\n",
    "        \n",
    "    ]\n",
    "    df = df[~df['name'].isin(faulty_names)].copy()\n",
    "    df = df.dropna(how='any')\n",
    "    df = df.drop_duplicates(subset=['datetime','name','variable'])\n",
    "\n",
    "    df = df.set_index('datetime')\n",
    "    df = df[df.index.year != 2018]\n",
    "\n",
    "    return df"
   ]
  },
  {
   "cell_type": "code",
   "execution_count": 16,
   "metadata": {},
   "outputs": [],
   "source": [
    "# df = pd.read_fwf('data_2022_09_13.txt', skiprows=2, header=None, names=cols)\n",
    "# pd.to_pickle(df, 'raw_read_fwf.pkl')\n",
    "\n",
    "df = pd.read_pickle('raw_read_fwf.pkl')"
   ]
  },
  {
   "cell_type": "code",
   "execution_count": 17,
   "metadata": {},
   "outputs": [
    {
     "data": {
      "text/plain": [
       "name           category\n",
       "variable       category\n",
       "value           float64\n",
       "load           category\n",
       "description    category\n",
       "dtype: object"
      ]
     },
     "execution_count": 17,
     "metadata": {},
     "output_type": "execute_result"
    }
   ],
   "source": [
    "df = prepare_data(df, dct_names, cols)\n",
    "df.dtypes"
   ]
  },
  {
   "cell_type": "code",
   "execution_count": 23,
   "metadata": {},
   "outputs": [],
   "source": [
    "pd.to_pickle(df, project_path / 'data' / 'data_long.pkl')"
   ]
  }
 ],
 "metadata": {
  "kernelspec": {
   "display_name": "Python 3.9.12 ('reporte_ubidots')",
   "language": "python",
   "name": "python3"
  },
  "language_info": {
   "codemirror_mode": {
    "name": "ipython",
    "version": 3
   },
   "file_extension": ".py",
   "mimetype": "text/x-python",
   "name": "python",
   "nbconvert_exporter": "python",
   "pygments_lexer": "ipython3",
   "version": "3.9.12"
  },
  "orig_nbformat": 4,
  "vscode": {
   "interpreter": {
    "hash": "3e8543986d11a7095dd1a708864c19914edc7f3db3f09d9443f7bd38b5a3c994"
   }
  }
 },
 "nbformat": 4,
 "nbformat_minor": 2
}
